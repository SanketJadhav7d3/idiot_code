{
 "cells": [
  {
   "cell_type": "code",
   "execution_count": 28,
   "id": "67edf225-b093-414b-a0d3-3e6c35798498",
   "metadata": {},
   "outputs": [],
   "source": [
    "import pandas as pd\n",
    "import os \n",
    "import numpy as np"
   ]
  },
  {
   "cell_type": "code",
   "execution_count": 8,
   "id": "642e63a8-0b35-4fa1-8263-a8f5483d633c",
   "metadata": {},
   "outputs": [],
   "source": [
    "test = pd.read_csv(\"./dataset/test.csv\")"
   ]
  },
  {
   "cell_type": "code",
   "execution_count": 9,
   "id": "f3697c59-ab80-4d20-b7f2-9ee3a7691e5b",
   "metadata": {},
   "outputs": [
    {
     "data": {
      "text/plain": [
       "(131187, 4)"
      ]
     },
     "execution_count": 9,
     "metadata": {},
     "output_type": "execute_result"
    }
   ],
   "source": [
    "test.shape"
   ]
  },
  {
   "cell_type": "code",
   "execution_count": 11,
   "id": "b6bc6650-890c-4624-ba35-3aef455a10cc",
   "metadata": {},
   "outputs": [
    {
     "data": {
      "text/plain": [
       "62633"
      ]
     },
     "execution_count": 11,
     "metadata": {},
     "output_type": "execute_result"
    }
   ],
   "source": [
    "files_saved = os.listdir(\"./images\")\n",
    "\n",
    "len(files_saved)"
   ]
  },
  {
   "cell_type": "code",
   "execution_count": 12,
   "id": "52b13a2d-dcc5-48b4-b9ae-44bfb0b137cf",
   "metadata": {},
   "outputs": [
    {
     "data": {
      "text/plain": [
       "Index(['index', 'image_link', 'group_id', 'entity_name'], dtype='object')"
      ]
     },
     "execution_count": 12,
     "metadata": {},
     "output_type": "execute_result"
    }
   ],
   "source": [
    "test.columns"
   ]
  },
  {
   "cell_type": "code",
   "execution_count": 13,
   "id": "a9eeb3a3-c2f3-4acc-a30d-e62d5ba2486b",
   "metadata": {},
   "outputs": [
    {
     "data": {
      "text/plain": [
       "0         110EibNyclL.jpg\n",
       "1         11TU2clswzL.jpg\n",
       "2         11TU2clswzL.jpg\n",
       "3         11TU2clswzL.jpg\n",
       "4         11gHj8dhhrL.jpg\n",
       "               ...       \n",
       "131182    A1rVsIzEtkL.jpg\n",
       "131183    A1rdvZ5zDdL.jpg\n",
       "131184    A1rdvZ5zDdL.jpg\n",
       "131185    A1tnTUPyr7L.jpg\n",
       "131186    A1tnTUPyr7L.jpg\n",
       "Name: file_name, Length: 131187, dtype: object"
      ]
     },
     "execution_count": 13,
     "metadata": {},
     "output_type": "execute_result"
    }
   ],
   "source": [
    "test['file_name'] = test['image_link'].apply(lambda x : x.split('/')[-1])\n",
    "\n",
    "test['file_name']"
   ]
  },
  {
   "cell_type": "code",
   "execution_count": 14,
   "id": "9d178580-1a70-4b4e-9fa6-df319c5d96c9",
   "metadata": {},
   "outputs": [
    {
     "data": {
      "text/html": [
       "<div>\n",
       "<style scoped>\n",
       "    .dataframe tbody tr th:only-of-type {\n",
       "        vertical-align: middle;\n",
       "    }\n",
       "\n",
       "    .dataframe tbody tr th {\n",
       "        vertical-align: top;\n",
       "    }\n",
       "\n",
       "    .dataframe thead th {\n",
       "        text-align: right;\n",
       "    }\n",
       "</style>\n",
       "<table border=\"1\" class=\"dataframe\">\n",
       "  <thead>\n",
       "    <tr style=\"text-align: right;\">\n",
       "      <th></th>\n",
       "      <th>index</th>\n",
       "      <th>image_link</th>\n",
       "      <th>group_id</th>\n",
       "      <th>entity_name</th>\n",
       "      <th>file_name</th>\n",
       "    </tr>\n",
       "  </thead>\n",
       "  <tbody>\n",
       "    <tr>\n",
       "      <th>0</th>\n",
       "      <td>0</td>\n",
       "      <td>https://m.media-amazon.com/images/I/110EibNycl...</td>\n",
       "      <td>156839</td>\n",
       "      <td>height</td>\n",
       "      <td>110EibNyclL.jpg</td>\n",
       "    </tr>\n",
       "    <tr>\n",
       "      <th>1</th>\n",
       "      <td>1</td>\n",
       "      <td>https://m.media-amazon.com/images/I/11TU2clswz...</td>\n",
       "      <td>792578</td>\n",
       "      <td>width</td>\n",
       "      <td>11TU2clswzL.jpg</td>\n",
       "    </tr>\n",
       "    <tr>\n",
       "      <th>2</th>\n",
       "      <td>2</td>\n",
       "      <td>https://m.media-amazon.com/images/I/11TU2clswz...</td>\n",
       "      <td>792578</td>\n",
       "      <td>height</td>\n",
       "      <td>11TU2clswzL.jpg</td>\n",
       "    </tr>\n",
       "    <tr>\n",
       "      <th>3</th>\n",
       "      <td>3</td>\n",
       "      <td>https://m.media-amazon.com/images/I/11TU2clswz...</td>\n",
       "      <td>792578</td>\n",
       "      <td>depth</td>\n",
       "      <td>11TU2clswzL.jpg</td>\n",
       "    </tr>\n",
       "    <tr>\n",
       "      <th>4</th>\n",
       "      <td>4</td>\n",
       "      <td>https://m.media-amazon.com/images/I/11gHj8dhhr...</td>\n",
       "      <td>792578</td>\n",
       "      <td>depth</td>\n",
       "      <td>11gHj8dhhrL.jpg</td>\n",
       "    </tr>\n",
       "  </tbody>\n",
       "</table>\n",
       "</div>"
      ],
      "text/plain": [
       "   index                                         image_link  group_id  \\\n",
       "0      0  https://m.media-amazon.com/images/I/110EibNycl...    156839   \n",
       "1      1  https://m.media-amazon.com/images/I/11TU2clswz...    792578   \n",
       "2      2  https://m.media-amazon.com/images/I/11TU2clswz...    792578   \n",
       "3      3  https://m.media-amazon.com/images/I/11TU2clswz...    792578   \n",
       "4      4  https://m.media-amazon.com/images/I/11gHj8dhhr...    792578   \n",
       "\n",
       "  entity_name        file_name  \n",
       "0      height  110EibNyclL.jpg  \n",
       "1       width  11TU2clswzL.jpg  \n",
       "2      height  11TU2clswzL.jpg  \n",
       "3       depth  11TU2clswzL.jpg  \n",
       "4       depth  11gHj8dhhrL.jpg  "
      ]
     },
     "execution_count": 14,
     "metadata": {},
     "output_type": "execute_result"
    }
   ],
   "source": [
    "test.head()"
   ]
  },
  {
   "cell_type": "code",
   "execution_count": 18,
   "id": "5a4164a4-6905-400b-97e1-76c12d336bd6",
   "metadata": {},
   "outputs": [],
   "source": [
    "# find all the saved files from the test\n",
    "files_saved_df = test[test['file_name'].isin(files_saved)]\n",
    "\n",
    "files_not_saved_df = test[~test['file_name'].isin(files_saved)]"
   ]
  },
  {
   "cell_type": "code",
   "execution_count": 21,
   "id": "59bb6075-4ca2-45da-86b2-5990409ffe85",
   "metadata": {},
   "outputs": [
    {
     "data": {
      "text/plain": [
       "(94125, 5)"
      ]
     },
     "execution_count": 21,
     "metadata": {},
     "output_type": "execute_result"
    }
   ],
   "source": [
    "files_saved_df.shape"
   ]
  },
  {
   "cell_type": "code",
   "execution_count": 23,
   "id": "da2cc5f2-ca49-4dd7-98cc-1eb1dba32e3e",
   "metadata": {},
   "outputs": [
    {
     "data": {
      "text/html": [
       "<div>\n",
       "<style scoped>\n",
       "    .dataframe tbody tr th:only-of-type {\n",
       "        vertical-align: middle;\n",
       "    }\n",
       "\n",
       "    .dataframe tbody tr th {\n",
       "        vertical-align: top;\n",
       "    }\n",
       "\n",
       "    .dataframe thead th {\n",
       "        text-align: right;\n",
       "    }\n",
       "</style>\n",
       "<table border=\"1\" class=\"dataframe\">\n",
       "  <thead>\n",
       "    <tr style=\"text-align: right;\">\n",
       "      <th></th>\n",
       "      <th>index</th>\n",
       "      <th>image_link</th>\n",
       "      <th>group_id</th>\n",
       "      <th>entity_name</th>\n",
       "      <th>file_name</th>\n",
       "    </tr>\n",
       "  </thead>\n",
       "  <tbody>\n",
       "    <tr>\n",
       "      <th>94120</th>\n",
       "      <td>94194</td>\n",
       "      <td>https://m.media-amazon.com/images/I/617xfzUqN3...</td>\n",
       "      <td>844474</td>\n",
       "      <td>height</td>\n",
       "      <td>617xfzUqN3L.jpg</td>\n",
       "    </tr>\n",
       "    <tr>\n",
       "      <th>94121</th>\n",
       "      <td>94195</td>\n",
       "      <td>https://m.media-amazon.com/images/I/617xnRpIKf...</td>\n",
       "      <td>810266</td>\n",
       "      <td>depth</td>\n",
       "      <td>617xnRpIKfL.jpg</td>\n",
       "    </tr>\n",
       "    <tr>\n",
       "      <th>94122</th>\n",
       "      <td>94196</td>\n",
       "      <td>https://m.media-amazon.com/images/I/617xnRpIKf...</td>\n",
       "      <td>810266</td>\n",
       "      <td>height</td>\n",
       "      <td>617xnRpIKfL.jpg</td>\n",
       "    </tr>\n",
       "    <tr>\n",
       "      <th>94123</th>\n",
       "      <td>94197</td>\n",
       "      <td>https://m.media-amazon.com/images/I/617xoB8+03...</td>\n",
       "      <td>243137</td>\n",
       "      <td>depth</td>\n",
       "      <td>617xoB8+03L.jpg</td>\n",
       "    </tr>\n",
       "    <tr>\n",
       "      <th>94124</th>\n",
       "      <td>94198</td>\n",
       "      <td>https://m.media-amazon.com/images/I/617xoB8+03...</td>\n",
       "      <td>243137</td>\n",
       "      <td>width</td>\n",
       "      <td>617xoB8+03L.jpg</td>\n",
       "    </tr>\n",
       "  </tbody>\n",
       "</table>\n",
       "</div>"
      ],
      "text/plain": [
       "       index                                         image_link  group_id  \\\n",
       "94120  94194  https://m.media-amazon.com/images/I/617xfzUqN3...    844474   \n",
       "94121  94195  https://m.media-amazon.com/images/I/617xnRpIKf...    810266   \n",
       "94122  94196  https://m.media-amazon.com/images/I/617xnRpIKf...    810266   \n",
       "94123  94197  https://m.media-amazon.com/images/I/617xoB8+03...    243137   \n",
       "94124  94198  https://m.media-amazon.com/images/I/617xoB8+03...    243137   \n",
       "\n",
       "      entity_name        file_name  \n",
       "94120      height  617xfzUqN3L.jpg  \n",
       "94121       depth  617xnRpIKfL.jpg  \n",
       "94122      height  617xnRpIKfL.jpg  \n",
       "94123       depth  617xoB8+03L.jpg  \n",
       "94124       width  617xoB8+03L.jpg  "
      ]
     },
     "execution_count": 23,
     "metadata": {},
     "output_type": "execute_result"
    }
   ],
   "source": [
    "files_saved_df.tail()"
   ]
  },
  {
   "cell_type": "code",
   "execution_count": 19,
   "id": "bef94988-45ee-4dae-af41-52d6db945b38",
   "metadata": {},
   "outputs": [],
   "source": [
    "files_saved_df.to_csv('files_saved_df.csv')"
   ]
  },
  {
   "cell_type": "code",
   "execution_count": 25,
   "id": "b6e4ae56-227c-4b94-9db4-e124590193ce",
   "metadata": {},
   "outputs": [
    {
     "data": {
      "text/html": [
       "<div>\n",
       "<style scoped>\n",
       "    .dataframe tbody tr th:only-of-type {\n",
       "        vertical-align: middle;\n",
       "    }\n",
       "\n",
       "    .dataframe tbody tr th {\n",
       "        vertical-align: top;\n",
       "    }\n",
       "\n",
       "    .dataframe thead th {\n",
       "        text-align: right;\n",
       "    }\n",
       "</style>\n",
       "<table border=\"1\" class=\"dataframe\">\n",
       "  <thead>\n",
       "    <tr style=\"text-align: right;\">\n",
       "      <th></th>\n",
       "      <th>index</th>\n",
       "      <th>image_link</th>\n",
       "      <th>group_id</th>\n",
       "      <th>entity_name</th>\n",
       "      <th>file_name</th>\n",
       "    </tr>\n",
       "  </thead>\n",
       "  <tbody>\n",
       "    <tr>\n",
       "      <th>94125</th>\n",
       "      <td>94199</td>\n",
       "      <td>https://m.media-amazon.com/images/I/617xs+u5i7...</td>\n",
       "      <td>178778</td>\n",
       "      <td>height</td>\n",
       "      <td>617xs+u5i7L.jpg</td>\n",
       "    </tr>\n",
       "    <tr>\n",
       "      <th>94126</th>\n",
       "      <td>94200</td>\n",
       "      <td>https://m.media-amazon.com/images/I/617xsWvTUX...</td>\n",
       "      <td>683885</td>\n",
       "      <td>width</td>\n",
       "      <td>617xsWvTUXL.jpg</td>\n",
       "    </tr>\n",
       "    <tr>\n",
       "      <th>94127</th>\n",
       "      <td>94201</td>\n",
       "      <td>https://m.media-amazon.com/images/I/617xsWvTUX...</td>\n",
       "      <td>683885</td>\n",
       "      <td>depth</td>\n",
       "      <td>617xsWvTUXL.jpg</td>\n",
       "    </tr>\n",
       "    <tr>\n",
       "      <th>94128</th>\n",
       "      <td>94202</td>\n",
       "      <td>https://m.media-amazon.com/images/I/617xsWvTUX...</td>\n",
       "      <td>683885</td>\n",
       "      <td>height</td>\n",
       "      <td>617xsWvTUXL.jpg</td>\n",
       "    </tr>\n",
       "    <tr>\n",
       "      <th>94129</th>\n",
       "      <td>94203</td>\n",
       "      <td>https://m.media-amazon.com/images/I/617xveukXj...</td>\n",
       "      <td>267182</td>\n",
       "      <td>width</td>\n",
       "      <td>617xveukXjL.jpg</td>\n",
       "    </tr>\n",
       "  </tbody>\n",
       "</table>\n",
       "</div>"
      ],
      "text/plain": [
       "       index                                         image_link  group_id  \\\n",
       "94125  94199  https://m.media-amazon.com/images/I/617xs+u5i7...    178778   \n",
       "94126  94200  https://m.media-amazon.com/images/I/617xsWvTUX...    683885   \n",
       "94127  94201  https://m.media-amazon.com/images/I/617xsWvTUX...    683885   \n",
       "94128  94202  https://m.media-amazon.com/images/I/617xsWvTUX...    683885   \n",
       "94129  94203  https://m.media-amazon.com/images/I/617xveukXj...    267182   \n",
       "\n",
       "      entity_name        file_name  \n",
       "94125      height  617xs+u5i7L.jpg  \n",
       "94126       width  617xsWvTUXL.jpg  \n",
       "94127       depth  617xsWvTUXL.jpg  \n",
       "94128      height  617xsWvTUXL.jpg  \n",
       "94129       width  617xveukXjL.jpg  "
      ]
     },
     "execution_count": 25,
     "metadata": {},
     "output_type": "execute_result"
    }
   ],
   "source": [
    "files_not_saved_df.head()"
   ]
  },
  {
   "cell_type": "code",
   "execution_count": 20,
   "id": "d72bf617-0745-4175-b2c0-edfbd0b0ccf0",
   "metadata": {},
   "outputs": [
    {
     "data": {
      "text/plain": [
       "(37062, 5)"
      ]
     },
     "execution_count": 20,
     "metadata": {},
     "output_type": "execute_result"
    }
   ],
   "source": [
    "files_not_saved_df.shape"
   ]
  },
  {
   "cell_type": "code",
   "execution_count": 27,
   "id": "a04ea6d7-52cc-40eb-9b8d-a4226700b96a",
   "metadata": {},
   "outputs": [
    {
     "data": {
      "text/plain": [
       "94125"
      ]
     },
     "execution_count": 27,
     "metadata": {},
     "output_type": "execute_result"
    }
   ],
   "source": [
    "# partition the files saved df into parts\n",
    "n_files_saved = files_saved_df.shape[0]\n",
    "\n",
    "n_files_saved"
   ]
  },
  {
   "cell_type": "code",
   "execution_count": 37,
   "id": "c73bd241-9e98-4d35-83c2-b07bdcee68bc",
   "metadata": {},
   "outputs": [
    {
     "data": {
      "text/plain": [
       "13"
      ]
     },
     "execution_count": 37,
     "metadata": {},
     "output_type": "execute_result"
    }
   ],
   "source": [
    "dfs = np.array_split(files_saved_df, 13)\n",
    "\n",
    "len(dfs)"
   ]
  },
  {
   "cell_type": "code",
   "execution_count": 38,
   "id": "99508a85-0dbf-4e17-811f-94371e05173d",
   "metadata": {},
   "outputs": [
    {
     "name": "stdout",
     "output_type": "stream",
     "text": [
      "(7241, 5)\n",
      "(7241, 5)\n",
      "(7241, 5)\n",
      "(7241, 5)\n",
      "(7241, 5)\n",
      "(7240, 5)\n",
      "(7240, 5)\n",
      "(7240, 5)\n",
      "(7240, 5)\n",
      "(7240, 5)\n",
      "(7240, 5)\n",
      "(7240, 5)\n",
      "(7240, 5)\n"
     ]
    }
   ],
   "source": [
    "for df in dfs:\n",
    "    print(df.shape)"
   ]
  },
  {
   "cell_type": "code",
   "execution_count": 40,
   "id": "cbac580e-0f26-41d0-a877-ba4dc438ab44",
   "metadata": {},
   "outputs": [
    {
     "name": "stdout",
     "output_type": "stream",
     "text": [
      "Partitions dir exists\n"
     ]
    }
   ],
   "source": [
    "partitions_dir = './partitions'\n",
    "\n",
    "if os.path.exists(partitions_dir):\n",
    "    print(\"Partitions dir created\")\n",
    "    os.mkdirs(partitions_dir)\n",
    "else:\n",
    "    print(\"Partitions dir exists\")"
   ]
  },
  {
   "cell_type": "code",
   "execution_count": 41,
   "id": "7b07d6b2-b34d-4954-acf5-66214c79422e",
   "metadata": {},
   "outputs": [
    {
     "ename": "SyntaxError",
     "evalue": "incomplete input (1457531878.py, line 3)",
     "output_type": "error",
     "traceback": [
      "\u001b[1;36m  Cell \u001b[1;32mIn[41], line 3\u001b[1;36m\u001b[0m\n\u001b[1;33m    df.to_csv(os.path.join(partition_dir, f\"partition_{i}\"\u001b[0m\n\u001b[1;37m                                                          ^\u001b[0m\n\u001b[1;31mSyntaxError\u001b[0m\u001b[1;31m:\u001b[0m incomplete input\n"
     ]
    }
   ],
   "source": [
    "for i, df in enumerate(dfs):\n",
    "    print(i, df.shape)\n",
    "    df.to_csv(os.path.join(partition_dir, f\"partition_{i}.csv\"))"
   ]
  },
  {
   "cell_type": "code",
   "execution_count": null,
   "id": "1cef8588-d818-4d88-ba03-3d659de7e9e1",
   "metadata": {},
   "outputs": [],
   "source": []
  }
 ],
 "metadata": {
  "kernelspec": {
   "display_name": "Python 3 (ipykernel)",
   "language": "python",
   "name": "python3"
  },
  "language_info": {
   "codemirror_mode": {
    "name": "ipython",
    "version": 3
   },
   "file_extension": ".py",
   "mimetype": "text/x-python",
   "name": "python",
   "nbconvert_exporter": "python",
   "pygments_lexer": "ipython3",
   "version": "3.11.9"
  }
 },
 "nbformat": 4,
 "nbformat_minor": 5
}

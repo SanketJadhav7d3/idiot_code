{
 "cells": [
  {
   "cell_type": "code",
   "execution_count": 8,
   "id": "67edf225-b093-414b-a0d3-3e6c35798498",
   "metadata": {},
   "outputs": [],
   "source": [
    "import pandas as pd\n",
    "import os \n",
    "import numpy as np"
   ]
  },
  {
   "cell_type": "code",
   "execution_count": 9,
   "id": "642e63a8-0b35-4fa1-8263-a8f5483d633c",
   "metadata": {},
   "outputs": [],
   "source": [
    "test = pd.read_csv(\"./dataset/test.csv\")"
   ]
  },
  {
   "cell_type": "code",
   "execution_count": 10,
   "id": "f3697c59-ab80-4d20-b7f2-9ee3a7691e5b",
   "metadata": {},
   "outputs": [
    {
     "data": {
      "text/plain": [
       "(131187, 4)"
      ]
     },
     "execution_count": 10,
     "metadata": {},
     "output_type": "execute_result"
    }
   ],
   "source": [
    "test.shape"
   ]
  },
  {
   "cell_type": "code",
   "execution_count": 11,
   "id": "b6bc6650-890c-4624-ba35-3aef455a10cc",
   "metadata": {},
   "outputs": [
    {
     "data": {
      "text/plain": [
       "62633"
      ]
     },
     "execution_count": 11,
     "metadata": {},
     "output_type": "execute_result"
    }
   ],
   "source": [
    "files_saved = os.listdir(\"./images\")\n",
    "\n",
    "len(files_saved)"
   ]
  },
  {
   "cell_type": "code",
   "execution_count": 12,
   "id": "52b13a2d-dcc5-48b4-b9ae-44bfb0b137cf",
   "metadata": {},
   "outputs": [
    {
     "data": {
      "text/plain": [
       "Index(['index', 'image_link', 'group_id', 'entity_name'], dtype='object')"
      ]
     },
     "execution_count": 12,
     "metadata": {},
     "output_type": "execute_result"
    }
   ],
   "source": [
    "test.columns"
   ]
  },
  {
   "cell_type": "code",
   "execution_count": 13,
   "id": "a9eeb3a3-c2f3-4acc-a30d-e62d5ba2486b",
   "metadata": {},
   "outputs": [
    {
     "data": {
      "text/plain": [
       "0         110EibNyclL.jpg\n",
       "1         11TU2clswzL.jpg\n",
       "2         11TU2clswzL.jpg\n",
       "3         11TU2clswzL.jpg\n",
       "4         11gHj8dhhrL.jpg\n",
       "               ...       \n",
       "131182    A1rVsIzEtkL.jpg\n",
       "131183    A1rdvZ5zDdL.jpg\n",
       "131184    A1rdvZ5zDdL.jpg\n",
       "131185    A1tnTUPyr7L.jpg\n",
       "131186    A1tnTUPyr7L.jpg\n",
       "Name: file_name, Length: 131187, dtype: object"
      ]
     },
     "execution_count": 13,
     "metadata": {},
     "output_type": "execute_result"
    }
   ],
   "source": [
    "test['file_name'] = test['image_link'].apply(lambda x : x.split('/')[-1])\n",
    "\n",
    "test['file_name']"
   ]
  },
  {
   "cell_type": "code",
   "execution_count": 56,
   "id": "9d178580-1a70-4b4e-9fa6-df319c5d96c9",
   "metadata": {},
   "outputs": [
    {
     "data": {
      "text/html": [
       "<div>\n",
       "<style scoped>\n",
       "    .dataframe tbody tr th:only-of-type {\n",
       "        vertical-align: middle;\n",
       "    }\n",
       "\n",
       "    .dataframe tbody tr th {\n",
       "        vertical-align: top;\n",
       "    }\n",
       "\n",
       "    .dataframe thead th {\n",
       "        text-align: right;\n",
       "    }\n",
       "</style>\n",
       "<table border=\"1\" class=\"dataframe\">\n",
       "  <thead>\n",
       "    <tr style=\"text-align: right;\">\n",
       "      <th></th>\n",
       "      <th>index</th>\n",
       "      <th>image_link</th>\n",
       "      <th>group_id</th>\n",
       "      <th>entity_name</th>\n",
       "      <th>file_name</th>\n",
       "    </tr>\n",
       "  </thead>\n",
       "  <tbody>\n",
       "    <tr>\n",
       "      <th>0</th>\n",
       "      <td>0</td>\n",
       "      <td>https://m.media-amazon.com/images/I/110EibNycl...</td>\n",
       "      <td>156839</td>\n",
       "      <td>height</td>\n",
       "      <td>110EibNyclL.jpg</td>\n",
       "    </tr>\n",
       "    <tr>\n",
       "      <th>1</th>\n",
       "      <td>1</td>\n",
       "      <td>https://m.media-amazon.com/images/I/11TU2clswz...</td>\n",
       "      <td>792578</td>\n",
       "      <td>width</td>\n",
       "      <td>11TU2clswzL.jpg</td>\n",
       "    </tr>\n",
       "    <tr>\n",
       "      <th>2</th>\n",
       "      <td>2</td>\n",
       "      <td>https://m.media-amazon.com/images/I/11TU2clswz...</td>\n",
       "      <td>792578</td>\n",
       "      <td>height</td>\n",
       "      <td>11TU2clswzL.jpg</td>\n",
       "    </tr>\n",
       "    <tr>\n",
       "      <th>3</th>\n",
       "      <td>3</td>\n",
       "      <td>https://m.media-amazon.com/images/I/11TU2clswz...</td>\n",
       "      <td>792578</td>\n",
       "      <td>depth</td>\n",
       "      <td>11TU2clswzL.jpg</td>\n",
       "    </tr>\n",
       "    <tr>\n",
       "      <th>4</th>\n",
       "      <td>4</td>\n",
       "      <td>https://m.media-amazon.com/images/I/11gHj8dhhr...</td>\n",
       "      <td>792578</td>\n",
       "      <td>depth</td>\n",
       "      <td>11gHj8dhhrL.jpg</td>\n",
       "    </tr>\n",
       "    <tr>\n",
       "      <th>...</th>\n",
       "      <td>...</td>\n",
       "      <td>...</td>\n",
       "      <td>...</td>\n",
       "      <td>...</td>\n",
       "      <td>...</td>\n",
       "    </tr>\n",
       "    <tr>\n",
       "      <th>131182</th>\n",
       "      <td>131283</td>\n",
       "      <td>https://m.media-amazon.com/images/I/A1rVsIzEtk...</td>\n",
       "      <td>721522</td>\n",
       "      <td>maximum_weight_recommendation</td>\n",
       "      <td>A1rVsIzEtkL.jpg</td>\n",
       "    </tr>\n",
       "    <tr>\n",
       "      <th>131183</th>\n",
       "      <td>131284</td>\n",
       "      <td>https://m.media-amazon.com/images/I/A1rdvZ5zDd...</td>\n",
       "      <td>603688</td>\n",
       "      <td>item_weight</td>\n",
       "      <td>A1rdvZ5zDdL.jpg</td>\n",
       "    </tr>\n",
       "    <tr>\n",
       "      <th>131184</th>\n",
       "      <td>131285</td>\n",
       "      <td>https://m.media-amazon.com/images/I/A1rdvZ5zDd...</td>\n",
       "      <td>603688</td>\n",
       "      <td>maximum_weight_recommendation</td>\n",
       "      <td>A1rdvZ5zDdL.jpg</td>\n",
       "    </tr>\n",
       "    <tr>\n",
       "      <th>131185</th>\n",
       "      <td>131286</td>\n",
       "      <td>https://m.media-amazon.com/images/I/A1tnTUPyr7...</td>\n",
       "      <td>853009</td>\n",
       "      <td>item_weight</td>\n",
       "      <td>A1tnTUPyr7L.jpg</td>\n",
       "    </tr>\n",
       "    <tr>\n",
       "      <th>131186</th>\n",
       "      <td>131287</td>\n",
       "      <td>https://m.media-amazon.com/images/I/A1tnTUPyr7...</td>\n",
       "      <td>853009</td>\n",
       "      <td>maximum_weight_recommendation</td>\n",
       "      <td>A1tnTUPyr7L.jpg</td>\n",
       "    </tr>\n",
       "  </tbody>\n",
       "</table>\n",
       "<p>131187 rows × 5 columns</p>\n",
       "</div>"
      ],
      "text/plain": [
       "         index                                         image_link  group_id  \\\n",
       "0            0  https://m.media-amazon.com/images/I/110EibNycl...    156839   \n",
       "1            1  https://m.media-amazon.com/images/I/11TU2clswz...    792578   \n",
       "2            2  https://m.media-amazon.com/images/I/11TU2clswz...    792578   \n",
       "3            3  https://m.media-amazon.com/images/I/11TU2clswz...    792578   \n",
       "4            4  https://m.media-amazon.com/images/I/11gHj8dhhr...    792578   \n",
       "...        ...                                                ...       ...   \n",
       "131182  131283  https://m.media-amazon.com/images/I/A1rVsIzEtk...    721522   \n",
       "131183  131284  https://m.media-amazon.com/images/I/A1rdvZ5zDd...    603688   \n",
       "131184  131285  https://m.media-amazon.com/images/I/A1rdvZ5zDd...    603688   \n",
       "131185  131286  https://m.media-amazon.com/images/I/A1tnTUPyr7...    853009   \n",
       "131186  131287  https://m.media-amazon.com/images/I/A1tnTUPyr7...    853009   \n",
       "\n",
       "                          entity_name        file_name  \n",
       "0                              height  110EibNyclL.jpg  \n",
       "1                               width  11TU2clswzL.jpg  \n",
       "2                              height  11TU2clswzL.jpg  \n",
       "3                               depth  11TU2clswzL.jpg  \n",
       "4                               depth  11gHj8dhhrL.jpg  \n",
       "...                               ...              ...  \n",
       "131182  maximum_weight_recommendation  A1rVsIzEtkL.jpg  \n",
       "131183                    item_weight  A1rdvZ5zDdL.jpg  \n",
       "131184  maximum_weight_recommendation  A1rdvZ5zDdL.jpg  \n",
       "131185                    item_weight  A1tnTUPyr7L.jpg  \n",
       "131186  maximum_weight_recommendation  A1tnTUPyr7L.jpg  \n",
       "\n",
       "[131187 rows x 5 columns]"
      ]
     },
     "execution_count": 56,
     "metadata": {},
     "output_type": "execute_result"
    }
   ],
   "source": [
    "test"
   ]
  },
  {
   "cell_type": "code",
   "execution_count": 75,
   "id": "f58e9125-ecf3-4952-8510-45df0789ec67",
   "metadata": {},
   "outputs": [
    {
     "data": {
      "text/html": [
       "<div>\n",
       "<style scoped>\n",
       "    .dataframe tbody tr th:only-of-type {\n",
       "        vertical-align: middle;\n",
       "    }\n",
       "\n",
       "    .dataframe tbody tr th {\n",
       "        vertical-align: top;\n",
       "    }\n",
       "\n",
       "    .dataframe thead th {\n",
       "        text-align: right;\n",
       "    }\n",
       "</style>\n",
       "<table border=\"1\" class=\"dataframe\">\n",
       "  <thead>\n",
       "    <tr style=\"text-align: right;\">\n",
       "      <th></th>\n",
       "      <th>image_link</th>\n",
       "      <th>ocr_text</th>\n",
       "    </tr>\n",
       "  </thead>\n",
       "  <tbody>\n",
       "    <tr>\n",
       "      <th>0</th>\n",
       "      <td>https://m.media-amazon.com/images/I/110EibNycl...</td>\n",
       "      <td>None</td>\n",
       "    </tr>\n",
       "    <tr>\n",
       "      <th>1</th>\n",
       "      <td>https://m.media-amazon.com/images/I/11TU2clswz...</td>\n",
       "      <td>None</td>\n",
       "    </tr>\n",
       "    <tr>\n",
       "      <th>2</th>\n",
       "      <td>https://m.media-amazon.com/images/I/11gHj8dhhr...</td>\n",
       "      <td>None</td>\n",
       "    </tr>\n",
       "    <tr>\n",
       "      <th>3</th>\n",
       "      <td>https://m.media-amazon.com/images/I/11lshEUmCr...</td>\n",
       "      <td>None</td>\n",
       "    </tr>\n",
       "    <tr>\n",
       "      <th>4</th>\n",
       "      <td>https://m.media-amazon.com/images/I/21+i52HRW4...</td>\n",
       "      <td>None</td>\n",
       "    </tr>\n",
       "    <tr>\n",
       "      <th>...</th>\n",
       "      <td>...</td>\n",
       "      <td>...</td>\n",
       "    </tr>\n",
       "    <tr>\n",
       "      <th>90661</th>\n",
       "      <td>https://m.media-amazon.com/images/I/A1q3da5vzb...</td>\n",
       "      <td>None</td>\n",
       "    </tr>\n",
       "    <tr>\n",
       "      <th>90662</th>\n",
       "      <td>https://m.media-amazon.com/images/I/A1q8C45g+0...</td>\n",
       "      <td>None</td>\n",
       "    </tr>\n",
       "    <tr>\n",
       "      <th>90663</th>\n",
       "      <td>https://m.media-amazon.com/images/I/A1rVsIzEtk...</td>\n",
       "      <td>None</td>\n",
       "    </tr>\n",
       "    <tr>\n",
       "      <th>90664</th>\n",
       "      <td>https://m.media-amazon.com/images/I/A1rdvZ5zDd...</td>\n",
       "      <td>None</td>\n",
       "    </tr>\n",
       "    <tr>\n",
       "      <th>90665</th>\n",
       "      <td>https://m.media-amazon.com/images/I/A1tnTUPyr7...</td>\n",
       "      <td>None</td>\n",
       "    </tr>\n",
       "  </tbody>\n",
       "</table>\n",
       "<p>90666 rows × 2 columns</p>\n",
       "</div>"
      ],
      "text/plain": [
       "                                              image_link ocr_text\n",
       "0      https://m.media-amazon.com/images/I/110EibNycl...     None\n",
       "1      https://m.media-amazon.com/images/I/11TU2clswz...     None\n",
       "2      https://m.media-amazon.com/images/I/11gHj8dhhr...     None\n",
       "3      https://m.media-amazon.com/images/I/11lshEUmCr...     None\n",
       "4      https://m.media-amazon.com/images/I/21+i52HRW4...     None\n",
       "...                                                  ...      ...\n",
       "90661  https://m.media-amazon.com/images/I/A1q3da5vzb...     None\n",
       "90662  https://m.media-amazon.com/images/I/A1q8C45g+0...     None\n",
       "90663  https://m.media-amazon.com/images/I/A1rVsIzEtk...     None\n",
       "90664  https://m.media-amazon.com/images/I/A1rdvZ5zDd...     None\n",
       "90665  https://m.media-amazon.com/images/I/A1tnTUPyr7...     None\n",
       "\n",
       "[90666 rows x 2 columns]"
      ]
     },
     "execution_count": 75,
     "metadata": {},
     "output_type": "execute_result"
    }
   ],
   "source": [
    "# create a df having all the unique image urls \n",
    "unique_files = test['image_link'].unique()\n",
    "\n",
    "unique_files = pd.DataFrame({\"image_link\" : unique_files, 'ocr_text': 'None'})\n",
    "\n",
    "unique_files"
   ]
  },
  {
   "cell_type": "code",
   "execution_count": 76,
   "id": "092e8fc6-b2af-4d33-b980-fd31f8f82aa4",
   "metadata": {},
   "outputs": [
    {
     "data": {
      "text/plain": [
       "image_link    object\n",
       "ocr_text      object\n",
       "dtype: object"
      ]
     },
     "execution_count": 76,
     "metadata": {},
     "output_type": "execute_result"
    }
   ],
   "source": [
    "unique_files.dtypes"
   ]
  },
  {
   "cell_type": "code",
   "execution_count": 77,
   "id": "7d1d5af7-1ea3-43de-95d3-4d919e138baf",
   "metadata": {},
   "outputs": [
    {
     "data": {
      "text/html": [
       "<div>\n",
       "<style scoped>\n",
       "    .dataframe tbody tr th:only-of-type {\n",
       "        vertical-align: middle;\n",
       "    }\n",
       "\n",
       "    .dataframe tbody tr th {\n",
       "        vertical-align: top;\n",
       "    }\n",
       "\n",
       "    .dataframe thead th {\n",
       "        text-align: right;\n",
       "    }\n",
       "</style>\n",
       "<table border=\"1\" class=\"dataframe\">\n",
       "  <thead>\n",
       "    <tr style=\"text-align: right;\">\n",
       "      <th></th>\n",
       "      <th>index</th>\n",
       "      <th>image_link</th>\n",
       "      <th>group_id</th>\n",
       "      <th>entity_name</th>\n",
       "      <th>file_name</th>\n",
       "      <th>ocr_text</th>\n",
       "    </tr>\n",
       "  </thead>\n",
       "  <tbody>\n",
       "    <tr>\n",
       "      <th>0</th>\n",
       "      <td>0</td>\n",
       "      <td>https://m.media-amazon.com/images/I/110EibNycl...</td>\n",
       "      <td>156839</td>\n",
       "      <td>height</td>\n",
       "      <td>110EibNyclL.jpg</td>\n",
       "      <td>None</td>\n",
       "    </tr>\n",
       "    <tr>\n",
       "      <th>1</th>\n",
       "      <td>1</td>\n",
       "      <td>https://m.media-amazon.com/images/I/11TU2clswz...</td>\n",
       "      <td>792578</td>\n",
       "      <td>width</td>\n",
       "      <td>11TU2clswzL.jpg</td>\n",
       "      <td>None</td>\n",
       "    </tr>\n",
       "    <tr>\n",
       "      <th>2</th>\n",
       "      <td>2</td>\n",
       "      <td>https://m.media-amazon.com/images/I/11TU2clswz...</td>\n",
       "      <td>792578</td>\n",
       "      <td>height</td>\n",
       "      <td>11TU2clswzL.jpg</td>\n",
       "      <td>None</td>\n",
       "    </tr>\n",
       "    <tr>\n",
       "      <th>3</th>\n",
       "      <td>3</td>\n",
       "      <td>https://m.media-amazon.com/images/I/11TU2clswz...</td>\n",
       "      <td>792578</td>\n",
       "      <td>depth</td>\n",
       "      <td>11TU2clswzL.jpg</td>\n",
       "      <td>None</td>\n",
       "    </tr>\n",
       "    <tr>\n",
       "      <th>4</th>\n",
       "      <td>4</td>\n",
       "      <td>https://m.media-amazon.com/images/I/11gHj8dhhr...</td>\n",
       "      <td>792578</td>\n",
       "      <td>depth</td>\n",
       "      <td>11gHj8dhhrL.jpg</td>\n",
       "      <td>None</td>\n",
       "    </tr>\n",
       "    <tr>\n",
       "      <th>...</th>\n",
       "      <td>...</td>\n",
       "      <td>...</td>\n",
       "      <td>...</td>\n",
       "      <td>...</td>\n",
       "      <td>...</td>\n",
       "      <td>...</td>\n",
       "    </tr>\n",
       "    <tr>\n",
       "      <th>131182</th>\n",
       "      <td>131283</td>\n",
       "      <td>https://m.media-amazon.com/images/I/A1rVsIzEtk...</td>\n",
       "      <td>721522</td>\n",
       "      <td>maximum_weight_recommendation</td>\n",
       "      <td>A1rVsIzEtkL.jpg</td>\n",
       "      <td>None</td>\n",
       "    </tr>\n",
       "    <tr>\n",
       "      <th>131183</th>\n",
       "      <td>131284</td>\n",
       "      <td>https://m.media-amazon.com/images/I/A1rdvZ5zDd...</td>\n",
       "      <td>603688</td>\n",
       "      <td>item_weight</td>\n",
       "      <td>A1rdvZ5zDdL.jpg</td>\n",
       "      <td>None</td>\n",
       "    </tr>\n",
       "    <tr>\n",
       "      <th>131184</th>\n",
       "      <td>131285</td>\n",
       "      <td>https://m.media-amazon.com/images/I/A1rdvZ5zDd...</td>\n",
       "      <td>603688</td>\n",
       "      <td>maximum_weight_recommendation</td>\n",
       "      <td>A1rdvZ5zDdL.jpg</td>\n",
       "      <td>None</td>\n",
       "    </tr>\n",
       "    <tr>\n",
       "      <th>131185</th>\n",
       "      <td>131286</td>\n",
       "      <td>https://m.media-amazon.com/images/I/A1tnTUPyr7...</td>\n",
       "      <td>853009</td>\n",
       "      <td>item_weight</td>\n",
       "      <td>A1tnTUPyr7L.jpg</td>\n",
       "      <td>None</td>\n",
       "    </tr>\n",
       "    <tr>\n",
       "      <th>131186</th>\n",
       "      <td>131287</td>\n",
       "      <td>https://m.media-amazon.com/images/I/A1tnTUPyr7...</td>\n",
       "      <td>853009</td>\n",
       "      <td>maximum_weight_recommendation</td>\n",
       "      <td>A1tnTUPyr7L.jpg</td>\n",
       "      <td>None</td>\n",
       "    </tr>\n",
       "  </tbody>\n",
       "</table>\n",
       "<p>131187 rows × 6 columns</p>\n",
       "</div>"
      ],
      "text/plain": [
       "         index                                         image_link  group_id  \\\n",
       "0            0  https://m.media-amazon.com/images/I/110EibNycl...    156839   \n",
       "1            1  https://m.media-amazon.com/images/I/11TU2clswz...    792578   \n",
       "2            2  https://m.media-amazon.com/images/I/11TU2clswz...    792578   \n",
       "3            3  https://m.media-amazon.com/images/I/11TU2clswz...    792578   \n",
       "4            4  https://m.media-amazon.com/images/I/11gHj8dhhr...    792578   \n",
       "...        ...                                                ...       ...   \n",
       "131182  131283  https://m.media-amazon.com/images/I/A1rVsIzEtk...    721522   \n",
       "131183  131284  https://m.media-amazon.com/images/I/A1rdvZ5zDd...    603688   \n",
       "131184  131285  https://m.media-amazon.com/images/I/A1rdvZ5zDd...    603688   \n",
       "131185  131286  https://m.media-amazon.com/images/I/A1tnTUPyr7...    853009   \n",
       "131186  131287  https://m.media-amazon.com/images/I/A1tnTUPyr7...    853009   \n",
       "\n",
       "                          entity_name        file_name ocr_text  \n",
       "0                              height  110EibNyclL.jpg     None  \n",
       "1                               width  11TU2clswzL.jpg     None  \n",
       "2                              height  11TU2clswzL.jpg     None  \n",
       "3                               depth  11TU2clswzL.jpg     None  \n",
       "4                               depth  11gHj8dhhrL.jpg     None  \n",
       "...                               ...              ...      ...  \n",
       "131182  maximum_weight_recommendation  A1rVsIzEtkL.jpg     None  \n",
       "131183                    item_weight  A1rdvZ5zDdL.jpg     None  \n",
       "131184  maximum_weight_recommendation  A1rdvZ5zDdL.jpg     None  \n",
       "131185                    item_weight  A1tnTUPyr7L.jpg     None  \n",
       "131186  maximum_weight_recommendation  A1tnTUPyr7L.jpg     None  \n",
       "\n",
       "[131187 rows x 6 columns]"
      ]
     },
     "execution_count": 77,
     "metadata": {},
     "output_type": "execute_result"
    }
   ],
   "source": [
    "result = pd.merge(test, unique_files, on='image_link', how='right')\n",
    "\n",
    "result"
   ]
  },
  {
   "cell_type": "code",
   "execution_count": 78,
   "id": "5a4164a4-6905-400b-97e1-76c12d336bd6",
   "metadata": {},
   "outputs": [],
   "source": [
    "# find all the saved files from the test\n",
    "#files_saved_df = test[test['file_name'].isin(files_saved)]\n",
    "\n",
    "# as we are going to fetch images all images are technically saved\n",
    "\n",
    "# files saved df holds all the unique file link names\n",
    "files_saved_df = unique_files\n",
    "\n",
    "files_not_saved_df = test[~test['file_name'].isin(files_saved)]"
   ]
  },
  {
   "cell_type": "code",
   "execution_count": 79,
   "id": "59bb6075-4ca2-45da-86b2-5990409ffe85",
   "metadata": {},
   "outputs": [
    {
     "data": {
      "text/plain": [
       "(90666, 2)"
      ]
     },
     "execution_count": 79,
     "metadata": {},
     "output_type": "execute_result"
    }
   ],
   "source": [
    "files_saved_df.shape"
   ]
  },
  {
   "cell_type": "code",
   "execution_count": 80,
   "id": "da2cc5f2-ca49-4dd7-98cc-1eb1dba32e3e",
   "metadata": {},
   "outputs": [
    {
     "data": {
      "text/html": [
       "<div>\n",
       "<style scoped>\n",
       "    .dataframe tbody tr th:only-of-type {\n",
       "        vertical-align: middle;\n",
       "    }\n",
       "\n",
       "    .dataframe tbody tr th {\n",
       "        vertical-align: top;\n",
       "    }\n",
       "\n",
       "    .dataframe thead th {\n",
       "        text-align: right;\n",
       "    }\n",
       "</style>\n",
       "<table border=\"1\" class=\"dataframe\">\n",
       "  <thead>\n",
       "    <tr style=\"text-align: right;\">\n",
       "      <th></th>\n",
       "      <th>image_link</th>\n",
       "      <th>ocr_text</th>\n",
       "    </tr>\n",
       "  </thead>\n",
       "  <tbody>\n",
       "    <tr>\n",
       "      <th>90661</th>\n",
       "      <td>https://m.media-amazon.com/images/I/A1q3da5vzb...</td>\n",
       "      <td>None</td>\n",
       "    </tr>\n",
       "    <tr>\n",
       "      <th>90662</th>\n",
       "      <td>https://m.media-amazon.com/images/I/A1q8C45g+0...</td>\n",
       "      <td>None</td>\n",
       "    </tr>\n",
       "    <tr>\n",
       "      <th>90663</th>\n",
       "      <td>https://m.media-amazon.com/images/I/A1rVsIzEtk...</td>\n",
       "      <td>None</td>\n",
       "    </tr>\n",
       "    <tr>\n",
       "      <th>90664</th>\n",
       "      <td>https://m.media-amazon.com/images/I/A1rdvZ5zDd...</td>\n",
       "      <td>None</td>\n",
       "    </tr>\n",
       "    <tr>\n",
       "      <th>90665</th>\n",
       "      <td>https://m.media-amazon.com/images/I/A1tnTUPyr7...</td>\n",
       "      <td>None</td>\n",
       "    </tr>\n",
       "  </tbody>\n",
       "</table>\n",
       "</div>"
      ],
      "text/plain": [
       "                                              image_link ocr_text\n",
       "90661  https://m.media-amazon.com/images/I/A1q3da5vzb...     None\n",
       "90662  https://m.media-amazon.com/images/I/A1q8C45g+0...     None\n",
       "90663  https://m.media-amazon.com/images/I/A1rVsIzEtk...     None\n",
       "90664  https://m.media-amazon.com/images/I/A1rdvZ5zDd...     None\n",
       "90665  https://m.media-amazon.com/images/I/A1tnTUPyr7...     None"
      ]
     },
     "execution_count": 80,
     "metadata": {},
     "output_type": "execute_result"
    }
   ],
   "source": [
    "files_saved_df.tail()"
   ]
  },
  {
   "cell_type": "code",
   "execution_count": 81,
   "id": "bef94988-45ee-4dae-af41-52d6db945b38",
   "metadata": {},
   "outputs": [],
   "source": [
    "files_saved_df.to_csv('files_saved_df.csv')"
   ]
  },
  {
   "cell_type": "code",
   "execution_count": 82,
   "id": "b6e4ae56-227c-4b94-9db4-e124590193ce",
   "metadata": {},
   "outputs": [
    {
     "data": {
      "text/html": [
       "<div>\n",
       "<style scoped>\n",
       "    .dataframe tbody tr th:only-of-type {\n",
       "        vertical-align: middle;\n",
       "    }\n",
       "\n",
       "    .dataframe tbody tr th {\n",
       "        vertical-align: top;\n",
       "    }\n",
       "\n",
       "    .dataframe thead th {\n",
       "        text-align: right;\n",
       "    }\n",
       "</style>\n",
       "<table border=\"1\" class=\"dataframe\">\n",
       "  <thead>\n",
       "    <tr style=\"text-align: right;\">\n",
       "      <th></th>\n",
       "      <th>index</th>\n",
       "      <th>image_link</th>\n",
       "      <th>group_id</th>\n",
       "      <th>entity_name</th>\n",
       "      <th>file_name</th>\n",
       "    </tr>\n",
       "  </thead>\n",
       "  <tbody>\n",
       "    <tr>\n",
       "      <th>94125</th>\n",
       "      <td>94199</td>\n",
       "      <td>https://m.media-amazon.com/images/I/617xs+u5i7...</td>\n",
       "      <td>178778</td>\n",
       "      <td>height</td>\n",
       "      <td>617xs+u5i7L.jpg</td>\n",
       "    </tr>\n",
       "    <tr>\n",
       "      <th>94126</th>\n",
       "      <td>94200</td>\n",
       "      <td>https://m.media-amazon.com/images/I/617xsWvTUX...</td>\n",
       "      <td>683885</td>\n",
       "      <td>width</td>\n",
       "      <td>617xsWvTUXL.jpg</td>\n",
       "    </tr>\n",
       "    <tr>\n",
       "      <th>94127</th>\n",
       "      <td>94201</td>\n",
       "      <td>https://m.media-amazon.com/images/I/617xsWvTUX...</td>\n",
       "      <td>683885</td>\n",
       "      <td>depth</td>\n",
       "      <td>617xsWvTUXL.jpg</td>\n",
       "    </tr>\n",
       "    <tr>\n",
       "      <th>94128</th>\n",
       "      <td>94202</td>\n",
       "      <td>https://m.media-amazon.com/images/I/617xsWvTUX...</td>\n",
       "      <td>683885</td>\n",
       "      <td>height</td>\n",
       "      <td>617xsWvTUXL.jpg</td>\n",
       "    </tr>\n",
       "    <tr>\n",
       "      <th>94129</th>\n",
       "      <td>94203</td>\n",
       "      <td>https://m.media-amazon.com/images/I/617xveukXj...</td>\n",
       "      <td>267182</td>\n",
       "      <td>width</td>\n",
       "      <td>617xveukXjL.jpg</td>\n",
       "    </tr>\n",
       "  </tbody>\n",
       "</table>\n",
       "</div>"
      ],
      "text/plain": [
       "       index                                         image_link  group_id  \\\n",
       "94125  94199  https://m.media-amazon.com/images/I/617xs+u5i7...    178778   \n",
       "94126  94200  https://m.media-amazon.com/images/I/617xsWvTUX...    683885   \n",
       "94127  94201  https://m.media-amazon.com/images/I/617xsWvTUX...    683885   \n",
       "94128  94202  https://m.media-amazon.com/images/I/617xsWvTUX...    683885   \n",
       "94129  94203  https://m.media-amazon.com/images/I/617xveukXj...    267182   \n",
       "\n",
       "      entity_name        file_name  \n",
       "94125      height  617xs+u5i7L.jpg  \n",
       "94126       width  617xsWvTUXL.jpg  \n",
       "94127       depth  617xsWvTUXL.jpg  \n",
       "94128      height  617xsWvTUXL.jpg  \n",
       "94129       width  617xveukXjL.jpg  "
      ]
     },
     "execution_count": 82,
     "metadata": {},
     "output_type": "execute_result"
    }
   ],
   "source": [
    "files_not_saved_df.head()"
   ]
  },
  {
   "cell_type": "code",
   "execution_count": 83,
   "id": "d72bf617-0745-4175-b2c0-edfbd0b0ccf0",
   "metadata": {},
   "outputs": [
    {
     "data": {
      "text/plain": [
       "(37062, 5)"
      ]
     },
     "execution_count": 83,
     "metadata": {},
     "output_type": "execute_result"
    }
   ],
   "source": [
    "files_not_saved_df.shape"
   ]
  },
  {
   "cell_type": "code",
   "execution_count": 84,
   "id": "a04ea6d7-52cc-40eb-9b8d-a4226700b96a",
   "metadata": {},
   "outputs": [
    {
     "name": "stdout",
     "output_type": "stream",
     "text": [
      "Records for which files are available 90666\n"
     ]
    }
   ],
   "source": [
    "# partition the files saved df into parts\n",
    "n_files_saved = files_saved_df.shape[0]\n",
    "\n",
    "print(\"Records for which files are available\", n_files_saved)"
   ]
  },
  {
   "cell_type": "code",
   "execution_count": 85,
   "id": "c73bd241-9e98-4d35-83c2-b07bdcee68bc",
   "metadata": {},
   "outputs": [
    {
     "name": "stderr",
     "output_type": "stream",
     "text": [
      "C:\\Users\\Darkness\\miniconda3\\envs\\ocr_gpu\\Lib\\site-packages\\numpy\\core\\fromnumeric.py:59: FutureWarning: 'DataFrame.swapaxes' is deprecated and will be removed in a future version. Please use 'DataFrame.transpose' instead.\n",
      "  return bound(*args, **kwds)\n"
     ]
    },
    {
     "data": {
      "text/plain": [
       "13"
      ]
     },
     "execution_count": 85,
     "metadata": {},
     "output_type": "execute_result"
    }
   ],
   "source": [
    "dfs = np.array_split(files_saved_df, 13)\n",
    "\n",
    "len(dfs)"
   ]
  },
  {
   "cell_type": "code",
   "execution_count": 86,
   "id": "99508a85-0dbf-4e17-811f-94371e05173d",
   "metadata": {},
   "outputs": [
    {
     "name": "stdout",
     "output_type": "stream",
     "text": [
      "(6975, 2)\n",
      "(6975, 2)\n",
      "(6975, 2)\n",
      "(6975, 2)\n",
      "(6974, 2)\n",
      "(6974, 2)\n",
      "(6974, 2)\n",
      "(6974, 2)\n",
      "(6974, 2)\n",
      "(6974, 2)\n",
      "(6974, 2)\n",
      "(6974, 2)\n",
      "(6974, 2)\n"
     ]
    }
   ],
   "source": [
    "for df in dfs:\n",
    "    print(df.shape)"
   ]
  },
  {
   "cell_type": "code",
   "execution_count": 87,
   "id": "cbac580e-0f26-41d0-a877-ba4dc438ab44",
   "metadata": {},
   "outputs": [
    {
     "name": "stdout",
     "output_type": "stream",
     "text": [
      "Partitions dir exists\n"
     ]
    }
   ],
   "source": [
    "partitions_dir = './partitions'\n",
    "\n",
    "if not os.path.exists(partitions_dir):\n",
    "    print(\"Partitions dir created\")\n",
    "    os.makedirs(partitions_dir)\n",
    "else:\n",
    "    print(\"Partitions dir exists\")"
   ]
  },
  {
   "cell_type": "code",
   "execution_count": 88,
   "id": "7b07d6b2-b34d-4954-acf5-66214c79422e",
   "metadata": {},
   "outputs": [
    {
     "name": "stdout",
     "output_type": "stream",
     "text": [
      "0 (6975, 2)\n",
      "1 (6975, 2)\n",
      "2 (6975, 2)\n",
      "3 (6975, 2)\n",
      "4 (6974, 2)\n",
      "5 (6974, 2)\n",
      "6 (6974, 2)\n",
      "7 (6974, 2)\n",
      "8 (6974, 2)\n",
      "9 (6974, 2)\n",
      "10 (6974, 2)\n",
      "11 (6974, 2)\n",
      "12 (6974, 2)\n"
     ]
    }
   ],
   "source": [
    "for i, df in enumerate(dfs):\n",
    "    print(i, df.shape)\n",
    "    df.to_csv(os.path.join(partitions_dir, f\"partition_{i}.csv\"), index=False)"
   ]
  },
  {
   "cell_type": "code",
   "execution_count": null,
   "id": "cb8853a8-2e98-4c08-8ddc-a9535d958efc",
   "metadata": {},
   "outputs": [],
   "source": []
  }
 ],
 "metadata": {
  "kernelspec": {
   "display_name": "Python 3 (ipykernel)",
   "language": "python",
   "name": "python3"
  },
  "language_info": {
   "codemirror_mode": {
    "name": "ipython",
    "version": 3
   },
   "file_extension": ".py",
   "mimetype": "text/x-python",
   "name": "python",
   "nbconvert_exporter": "python",
   "pygments_lexer": "ipython3",
   "version": "3.11.9"
  }
 },
 "nbformat": 4,
 "nbformat_minor": 5
}

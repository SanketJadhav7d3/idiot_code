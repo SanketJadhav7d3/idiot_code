{
 "cells": [
  {
   "cell_type": "code",
   "execution_count": 1,
   "id": "8af7325a-18e0-4e0a-b9fe-ea262fd3de56",
   "metadata": {},
   "outputs": [],
   "source": [
    "import pandas as pd\n",
    "import os"
   ]
  },
  {
   "cell_type": "code",
   "execution_count": 3,
   "id": "5f41fc4c-2717-442c-97af-50042e8930c6",
   "metadata": {},
   "outputs": [
    {
     "data": {
      "text/plain": [
       "62633"
      ]
     },
     "execution_count": 3,
     "metadata": {},
     "output_type": "execute_result"
    }
   ],
   "source": [
    "files_saved = os.listdir('../images')\n",
    "\n",
    "len(files_saved)"
   ]
  },
  {
   "cell_type": "code",
   "execution_count": 6,
   "id": "7ab2a5e1-b271-45f0-b29f-cb4c755e6721",
   "metadata": {},
   "outputs": [],
   "source": [
    "test = pd.read_csv('../dataset/test.csv')"
   ]
  },
  {
   "cell_type": "code",
   "execution_count": 7,
   "id": "08079771-c3e5-4372-b769-fb0d4887657b",
   "metadata": {},
   "outputs": [
    {
     "data": {
      "text/html": [
       "<div>\n",
       "<style scoped>\n",
       "    .dataframe tbody tr th:only-of-type {\n",
       "        vertical-align: middle;\n",
       "    }\n",
       "\n",
       "    .dataframe tbody tr th {\n",
       "        vertical-align: top;\n",
       "    }\n",
       "\n",
       "    .dataframe thead th {\n",
       "        text-align: right;\n",
       "    }\n",
       "</style>\n",
       "<table border=\"1\" class=\"dataframe\">\n",
       "  <thead>\n",
       "    <tr style=\"text-align: right;\">\n",
       "      <th></th>\n",
       "      <th>index</th>\n",
       "      <th>image_link</th>\n",
       "      <th>group_id</th>\n",
       "      <th>entity_name</th>\n",
       "    </tr>\n",
       "  </thead>\n",
       "  <tbody>\n",
       "    <tr>\n",
       "      <th>0</th>\n",
       "      <td>0</td>\n",
       "      <td>https://m.media-amazon.com/images/I/110EibNycl...</td>\n",
       "      <td>156839</td>\n",
       "      <td>height</td>\n",
       "    </tr>\n",
       "    <tr>\n",
       "      <th>1</th>\n",
       "      <td>1</td>\n",
       "      <td>https://m.media-amazon.com/images/I/11TU2clswz...</td>\n",
       "      <td>792578</td>\n",
       "      <td>width</td>\n",
       "    </tr>\n",
       "    <tr>\n",
       "      <th>2</th>\n",
       "      <td>2</td>\n",
       "      <td>https://m.media-amazon.com/images/I/11TU2clswz...</td>\n",
       "      <td>792578</td>\n",
       "      <td>height</td>\n",
       "    </tr>\n",
       "    <tr>\n",
       "      <th>3</th>\n",
       "      <td>3</td>\n",
       "      <td>https://m.media-amazon.com/images/I/11TU2clswz...</td>\n",
       "      <td>792578</td>\n",
       "      <td>depth</td>\n",
       "    </tr>\n",
       "    <tr>\n",
       "      <th>4</th>\n",
       "      <td>4</td>\n",
       "      <td>https://m.media-amazon.com/images/I/11gHj8dhhr...</td>\n",
       "      <td>792578</td>\n",
       "      <td>depth</td>\n",
       "    </tr>\n",
       "  </tbody>\n",
       "</table>\n",
       "</div>"
      ],
      "text/plain": [
       "   index                                         image_link  group_id  \\\n",
       "0      0  https://m.media-amazon.com/images/I/110EibNycl...    156839   \n",
       "1      1  https://m.media-amazon.com/images/I/11TU2clswz...    792578   \n",
       "2      2  https://m.media-amazon.com/images/I/11TU2clswz...    792578   \n",
       "3      3  https://m.media-amazon.com/images/I/11TU2clswz...    792578   \n",
       "4      4  https://m.media-amazon.com/images/I/11gHj8dhhr...    792578   \n",
       "\n",
       "  entity_name  \n",
       "0      height  \n",
       "1       width  \n",
       "2      height  \n",
       "3       depth  \n",
       "4       depth  "
      ]
     },
     "execution_count": 7,
     "metadata": {},
     "output_type": "execute_result"
    }
   ],
   "source": [
    "test.head()"
   ]
  },
  {
   "cell_type": "code",
   "execution_count": 8,
   "id": "19497a2a-4754-40c3-ba47-a36d9b066b79",
   "metadata": {},
   "outputs": [
    {
     "data": {
      "text/plain": [
       "0         110EibNyclL.jpg\n",
       "1         11TU2clswzL.jpg\n",
       "2         11TU2clswzL.jpg\n",
       "3         11TU2clswzL.jpg\n",
       "4         11gHj8dhhrL.jpg\n",
       "               ...       \n",
       "131182    A1rVsIzEtkL.jpg\n",
       "131183    A1rdvZ5zDdL.jpg\n",
       "131184    A1rdvZ5zDdL.jpg\n",
       "131185    A1tnTUPyr7L.jpg\n",
       "131186    A1tnTUPyr7L.jpg\n",
       "Name: file_name, Length: 131187, dtype: object"
      ]
     },
     "execution_count": 8,
     "metadata": {},
     "output_type": "execute_result"
    }
   ],
   "source": [
    "test['file_name'] = test['image_link'].apply(lambda x : x.split('/')[-1])\n",
    "\n",
    "test['file_name']"
   ]
  },
  {
   "cell_type": "code",
   "execution_count": 13,
   "id": "40ca7ae0-21e6-4d54-80e2-d829d0972665",
   "metadata": {},
   "outputs": [],
   "source": [
    "not_saved = test[~test['file_name'].isin(files_saved)]"
   ]
  },
  {
   "cell_type": "code",
   "execution_count": 14,
   "id": "b5792461-6ab4-494a-8a85-21d5eae02e2d",
   "metadata": {},
   "outputs": [
    {
     "data": {
      "text/plain": [
       "(37062, 5)"
      ]
     },
     "execution_count": 14,
     "metadata": {},
     "output_type": "execute_result"
    }
   ],
   "source": [
    "not_saved.shape"
   ]
  },
  {
   "cell_type": "code",
   "execution_count": 15,
   "id": "0cf52b57-9ec4-43ec-bea1-5ea7ad78a469",
   "metadata": {},
   "outputs": [
    {
     "data": {
      "text/plain": [
       "99695"
      ]
     },
     "execution_count": 15,
     "metadata": {},
     "output_type": "execute_result"
    }
   ],
   "source": [
    "62633 + 37062"
   ]
  },
  {
   "cell_type": "code",
   "execution_count": 17,
   "id": "e250d14c-5b05-41cc-a244-7ebf9956647c",
   "metadata": {},
   "outputs": [
    {
     "data": {
      "text/plain": [
       "90666"
      ]
     },
     "execution_count": 17,
     "metadata": {},
     "output_type": "execute_result"
    }
   ],
   "source": [
    "test['image_link'].nunique()"
   ]
  },
  {
   "cell_type": "code",
   "execution_count": null,
   "id": "3e141fc1-e472-4b6f-a160-b476cfa05d6d",
   "metadata": {},
   "outputs": [],
   "source": []
  }
 ],
 "metadata": {
  "kernelspec": {
   "display_name": "Python 3 (ipykernel)",
   "language": "python",
   "name": "python3"
  },
  "language_info": {
   "codemirror_mode": {
    "name": "ipython",
    "version": 3
   },
   "file_extension": ".py",
   "mimetype": "text/x-python",
   "name": "python",
   "nbconvert_exporter": "python",
   "pygments_lexer": "ipython3",
   "version": "3.11.9"
  }
 },
 "nbformat": 4,
 "nbformat_minor": 5
}
